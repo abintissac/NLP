{
 "cells": [
  {
   "cell_type": "code",
   "execution_count": 1,
   "id": "8f07d3e9",
   "metadata": {},
   "outputs": [
    {
     "name": "stdout",
     "output_type": "stream",
     "text": [
      "Requirement already satisfied: nltk in c:\\users\\issac\\anaconda3\\lib\\site-packages (3.7)\n",
      "Requirement already satisfied: click in c:\\users\\issac\\anaconda3\\lib\\site-packages (from nltk) (8.0.4)\n",
      "Requirement already satisfied: joblib in c:\\users\\issac\\anaconda3\\lib\\site-packages (from nltk) (1.2.0)\n",
      "Requirement already satisfied: regex>=2021.8.3 in c:\\users\\issac\\anaconda3\\lib\\site-packages (from nltk) (2022.7.9)\n",
      "Requirement already satisfied: tqdm in c:\\users\\issac\\anaconda3\\lib\\site-packages (from nltk) (4.65.0)\n",
      "Requirement already satisfied: colorama in c:\\users\\issac\\anaconda3\\lib\\site-packages (from click->nltk) (0.4.4)\n"
     ]
    }
   ],
   "source": [
    "!pip install nltk"
   ]
  },
  {
   "cell_type": "code",
   "execution_count": 16,
   "id": "ad6e47b6",
   "metadata": {},
   "outputs": [],
   "source": [
    "corpus=\"\"\"Hai iam abin. Iam a self learned ai engineer and data science engineer. iam expert in python\"\"\""
   ]
  },
  {
   "cell_type": "code",
   "execution_count": 17,
   "id": "447286ea",
   "metadata": {},
   "outputs": [
    {
     "name": "stdout",
     "output_type": "stream",
     "text": [
      "Hai iam abin. Iam a self learned ai engineer and data science engineer. iam expert in python\n"
     ]
    }
   ],
   "source": [
    "print(corpus)"
   ]
  },
  {
   "cell_type": "code",
   "execution_count": 18,
   "id": "4f8c0d21",
   "metadata": {},
   "outputs": [],
   "source": [
    "#Tokenization\n",
    "#paragraph into sentence\n",
    "from nltk.tokenize import sent_tokenize"
   ]
  },
  {
   "cell_type": "code",
   "execution_count": 19,
   "id": "ad8bd3bc",
   "metadata": {},
   "outputs": [
    {
     "name": "stdout",
     "output_type": "stream",
     "text": [
      "['Hai iam abin.', 'Iam a self learned ai engineer and data science engineer.', 'iam expert in python']\n"
     ]
    }
   ],
   "source": [
    "document=sent_tokenize(corpus)\n",
    "print(document)"
   ]
  },
  {
   "cell_type": "code",
   "execution_count": 20,
   "id": "61b7158c",
   "metadata": {},
   "outputs": [
    {
     "data": {
      "text/plain": [
       "list"
      ]
     },
     "execution_count": 20,
     "metadata": {},
     "output_type": "execute_result"
    }
   ],
   "source": [
    "type(document)"
   ]
  },
  {
   "cell_type": "code",
   "execution_count": 21,
   "id": "c30c019a",
   "metadata": {},
   "outputs": [
    {
     "name": "stdout",
     "output_type": "stream",
     "text": [
      "Hai iam abin.\n",
      "Iam a self learned ai engineer and data science engineer.\n",
      "iam expert in python\n"
     ]
    }
   ],
   "source": [
    "for sentence in document:\n",
    "    print(sentence)"
   ]
  },
  {
   "cell_type": "code",
   "execution_count": 22,
   "id": "0ce75a09",
   "metadata": {},
   "outputs": [],
   "source": [
    "#Tokenization\n",
    "#Sentence in to words\n",
    "from nltk.tokenize import word_tokenize"
   ]
  },
  {
   "cell_type": "code",
   "execution_count": 25,
   "id": "26ced136",
   "metadata": {},
   "outputs": [
    {
     "name": "stdout",
     "output_type": "stream",
     "text": [
      "['Hai', 'iam', 'abin', '.', 'Iam', 'a', 'self', 'learned', 'ai', 'engineer', 'and', 'data', 'science', 'engineer', '.', 'iam', 'expert', 'in', 'python']\n"
     ]
    }
   ],
   "source": [
    "words=word_tokenize(corpus)\n",
    "print(words)"
   ]
  },
  {
   "cell_type": "code",
   "execution_count": 28,
   "id": "de56cc71",
   "metadata": {},
   "outputs": [
    {
     "name": "stdout",
     "output_type": "stream",
     "text": [
      "['Hai', 'iam', 'abin', '.']\n",
      "['Iam', 'a', 'self', 'learned', 'ai', 'engineer', 'and', 'data', 'science', 'engineer', '.']\n",
      "['iam', 'expert', 'in', 'python']\n"
     ]
    }
   ],
   "source": [
    "for sentence in document:\n",
    "    print(word_tokenize(sentence))"
   ]
  },
  {
   "cell_type": "code",
   "execution_count": 29,
   "id": "10b51121",
   "metadata": {},
   "outputs": [],
   "source": [
    "from nltk.tokenize import wordpunct_tokenize"
   ]
  },
  {
   "cell_type": "code",
   "execution_count": 30,
   "id": "9d61a9aa",
   "metadata": {},
   "outputs": [
    {
     "data": {
      "text/plain": [
       "['Hai',\n",
       " 'iam',\n",
       " 'abin',\n",
       " '.',\n",
       " 'Iam',\n",
       " 'a',\n",
       " 'self',\n",
       " 'learned',\n",
       " 'ai',\n",
       " 'engineer',\n",
       " 'and',\n",
       " 'data',\n",
       " 'science',\n",
       " 'engineer',\n",
       " '.',\n",
       " 'iam',\n",
       " 'expert',\n",
       " 'in',\n",
       " 'python']"
      ]
     },
     "execution_count": 30,
     "metadata": {},
     "output_type": "execute_result"
    }
   ],
   "source": [
    "wordpunct_tokenize(corpus)"
   ]
  },
  {
   "cell_type": "code",
   "execution_count": 31,
   "id": "647a3c57",
   "metadata": {},
   "outputs": [],
   "source": [
    "from nltk.tokenize import TreebankWordTokenizer"
   ]
  },
  {
   "cell_type": "code",
   "execution_count": 32,
   "id": "1ae960b8",
   "metadata": {},
   "outputs": [
    {
     "data": {
      "text/plain": [
       "['Hai',\n",
       " 'iam',\n",
       " 'abin.',\n",
       " 'Iam',\n",
       " 'a',\n",
       " 'self',\n",
       " 'learned',\n",
       " 'ai',\n",
       " 'engineer',\n",
       " 'and',\n",
       " 'data',\n",
       " 'science',\n",
       " 'engineer.',\n",
       " 'iam',\n",
       " 'expert',\n",
       " 'in',\n",
       " 'python']"
      ]
     },
     "execution_count": 32,
     "metadata": {},
     "output_type": "execute_result"
    }
   ],
   "source": [
    "tokenizer=TreebankWordTokenizer()\n",
    "tokenizer.tokenize(corpus)"
   ]
  },
  {
   "cell_type": "code",
   "execution_count": null,
   "id": "064c1d02",
   "metadata": {},
   "outputs": [],
   "source": []
  }
 ],
 "metadata": {
  "kernelspec": {
   "display_name": "Python 3 (ipykernel)",
   "language": "python",
   "name": "python3"
  },
  "language_info": {
   "codemirror_mode": {
    "name": "ipython",
    "version": 3
   },
   "file_extension": ".py",
   "mimetype": "text/x-python",
   "name": "python",
   "nbconvert_exporter": "python",
   "pygments_lexer": "ipython3",
   "version": "3.11.3"
  }
 },
 "nbformat": 4,
 "nbformat_minor": 5
}
