{
 "cells": [
  {
   "cell_type": "code",
   "execution_count": 1,
   "id": "f233e4ac",
   "metadata": {},
   "outputs": [
    {
     "name": "stdout",
     "output_type": "stream",
     "text": [
      "['eat', 'eaten', 'eating', 'think', 'thinking', 'program', 'programming']\n"
     ]
    }
   ],
   "source": [
    "words = [\"eat\",\"eaten\",\"eating\",\"think\",\"thinking\",\"program\",\"programming\"]\n",
    "print(words)"
   ]
  },
  {
   "cell_type": "code",
   "execution_count": 2,
   "id": "76437baa",
   "metadata": {},
   "outputs": [],
   "source": [
    "#Porter stemmer"
   ]
  },
  {
   "cell_type": "code",
   "execution_count": 4,
   "id": "9fd06f9b",
   "metadata": {},
   "outputs": [],
   "source": [
    "from nltk.stem import PorterStemmer"
   ]
  },
  {
   "cell_type": "code",
   "execution_count": 5,
   "id": "a4643748",
   "metadata": {},
   "outputs": [],
   "source": [
    "stemming = PorterStemmer()"
   ]
  },
  {
   "cell_type": "code",
   "execution_count": 7,
   "id": "1a4ac0c1",
   "metadata": {},
   "outputs": [
    {
     "name": "stdout",
     "output_type": "stream",
     "text": [
      "eat--->eat\n",
      "eaten--->eaten\n",
      "eating--->eat\n",
      "think--->think\n",
      "thinking--->think\n",
      "program--->program\n",
      "programming--->program\n"
     ]
    }
   ],
   "source": [
    "for word in words:\n",
    "    print(word+\"--->\"+stemming.stem(word))"
   ]
  },
  {
   "cell_type": "code",
   "execution_count": 10,
   "id": "d4620f7e",
   "metadata": {},
   "outputs": [],
   "source": [
    "from nltk.stem import RegexpStemmer\n",
    "\n",
    "reg_stemmer = RegexpStemmer('ing$|s$|e$|able$', min=4)\n"
   ]
  },
  {
   "cell_type": "code",
   "execution_count": 11,
   "id": "3394dc71",
   "metadata": {},
   "outputs": [
    {
     "data": {
      "text/plain": [
       "'eat'"
      ]
     },
     "execution_count": 11,
     "metadata": {},
     "output_type": "execute_result"
    }
   ],
   "source": [
    "reg_stemmer.stem('eating')"
   ]
  },
  {
   "cell_type": "code",
   "execution_count": 12,
   "id": "7bafde1e",
   "metadata": {},
   "outputs": [
    {
     "data": {
      "text/plain": [
       "'watch'"
      ]
     },
     "execution_count": 12,
     "metadata": {},
     "output_type": "execute_result"
    }
   ],
   "source": [
    "reg_stemmer.stem('watchable')"
   ]
  },
  {
   "cell_type": "code",
   "execution_count": 13,
   "id": "7acc6156",
   "metadata": {},
   "outputs": [],
   "source": [
    "###Snowball stemmer"
   ]
  },
  {
   "cell_type": "code",
   "execution_count": 14,
   "id": "38ce9ec1",
   "metadata": {},
   "outputs": [],
   "source": [
    "from nltk.stem import SnowballStemmer"
   ]
  },
  {
   "cell_type": "code",
   "execution_count": 15,
   "id": "d01f04fe",
   "metadata": {},
   "outputs": [],
   "source": [
    "snowball = SnowballStemmer('english')"
   ]
  },
  {
   "cell_type": "code",
   "execution_count": 16,
   "id": "259c1148",
   "metadata": {},
   "outputs": [
    {
     "name": "stdout",
     "output_type": "stream",
     "text": [
      "eat--->eat\n",
      "eaten--->eaten\n",
      "eating--->eat\n",
      "think--->think\n",
      "thinking--->think\n",
      "program--->program\n",
      "programming--->program\n"
     ]
    }
   ],
   "source": [
    "for word in words:\n",
    "    print(word+\"--->\"+snowball.stem(word))"
   ]
  },
  {
   "cell_type": "code",
   "execution_count": null,
   "id": "5d12f5e4",
   "metadata": {},
   "outputs": [],
   "source": []
  }
 ],
 "metadata": {
  "kernelspec": {
   "display_name": "Python 3 (ipykernel)",
   "language": "python",
   "name": "python3"
  },
  "language_info": {
   "codemirror_mode": {
    "name": "ipython",
    "version": 3
   },
   "file_extension": ".py",
   "mimetype": "text/x-python",
   "name": "python",
   "nbconvert_exporter": "python",
   "pygments_lexer": "ipython3",
   "version": "3.11.3"
  }
 },
 "nbformat": 4,
 "nbformat_minor": 5
}
